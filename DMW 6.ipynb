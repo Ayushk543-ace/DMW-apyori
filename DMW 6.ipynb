{
 "cells": [
  {
   "cell_type": "code",
   "execution_count": 1,
   "id": "3ff76e24",
   "metadata": {},
   "outputs": [],
   "source": [
    "import numpy as np\n",
    "import matplotlib.pyplot as plt\n",
    "import pandas as pd\n",
    "from apyori import apriori"
   ]
  },
  {
   "cell_type": "code",
   "execution_count": 4,
   "id": "ee5b9108",
   "metadata": {},
   "outputs": [],
   "source": [
    "import csv\n",
    "\n",
    "records = []\n",
    "\n",
    "with open('store_data.csv', 'r') as csvfile:\n",
    "    csvreader = csv.reader(csvfile)\n",
    "    for row in csvreader:\n",
    "        records.append(row)\n",
    "#         print(records[:10])"
   ]
  },
  {
   "cell_type": "code",
   "execution_count": 5,
   "id": "2802f333",
   "metadata": {},
   "outputs": [],
   "source": [
    "association_rules = apriori(records, min_support=0.0070, min_confidence=0.30, min_lift=3, min_length=2)\n",
    "association_results = list(association_rules)"
   ]
  },
  {
   "cell_type": "code",
   "execution_count": 6,
   "id": "57126433",
   "metadata": {},
   "outputs": [
    {
     "name": "stdout",
     "output_type": "stream",
     "text": [
      "RelationRecord(items=frozenset({'ground beef', 'herb & pepper'}), support=0.015997866951073192, ordered_statistics=[OrderedStatistic(items_base=frozenset({'herb & pepper'}), items_add=frozenset({'ground beef'}), confidence=0.3234501347708895, lift=3.2919938411349285)])\n",
      "\n",
      "\n",
      "RelationRecord(items=frozenset({'frozen vegetables', 'spaghetti', 'ground beef'}), support=0.008665511265164644, ordered_statistics=[OrderedStatistic(items_base=frozenset({'frozen vegetables', 'spaghetti'}), items_add=frozenset({'ground beef'}), confidence=0.31100478468899523, lift=3.165328208890303)])\n",
      "\n",
      "\n",
      "RelationRecord(items=frozenset({'frozen vegetables', 'shrimp', 'mineral water'}), support=0.007199040127982935, ordered_statistics=[OrderedStatistic(items_base=frozenset({'shrimp', 'mineral water'}), items_add=frozenset({'frozen vegetables'}), confidence=0.30508474576271183, lift=3.200616332819722)])\n",
      "\n",
      "\n"
     ]
    }
   ],
   "source": [
    "for item in association_results:\n",
    "    print(item)\n",
    "    print(\"\\n\")"
   ]
  },
  {
   "cell_type": "code",
   "execution_count": null,
   "id": "62bdc943",
   "metadata": {},
   "outputs": [],
   "source": []
  },
  {
   "cell_type": "code",
   "execution_count": null,
   "id": "654d68ce",
   "metadata": {},
   "outputs": [],
   "source": []
  }
 ],
 "metadata": {
  "kernelspec": {
   "display_name": "Python 3 (ipykernel)",
   "language": "python",
   "name": "python3"
  },
  "language_info": {
   "codemirror_mode": {
    "name": "ipython",
    "version": 3
   },
   "file_extension": ".py",
   "mimetype": "text/x-python",
   "name": "python",
   "nbconvert_exporter": "python",
   "pygments_lexer": "ipython3",
   "version": "3.11.3"
  }
 },
 "nbformat": 4,
 "nbformat_minor": 5
}
